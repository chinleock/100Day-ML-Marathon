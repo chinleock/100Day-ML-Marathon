{
 "cells": [
  {
   "cell_type": "markdown",
   "metadata": {},
   "source": [
    "## Before Start the Marathon\n",
    "This repo is applying [Anaconda w/ Python 3.7](https://www.anaconda.com/download/) as default python environment\n",
    "\n",
    "The full installation pdf can be downloaded [here](https://github.com/chinleock/100Day-ML-Marathon/blob/master/Materials/D0/setup_env.pdf)\n",
    "\n",
    "Also, a cheetsheet of Jupyter notebook shortcuts can be found [here](http://opus.konghy.cn/ipynb/jupyter-notebook-keyboard-shortcut.html)\n",
    "\n",
    "### Now, we can start the marathod"
   ]
  },
  {
   "cell_type": "code",
   "execution_count": null,
   "metadata": {},
   "outputs": [],
   "source": []
  }
 ],
 "metadata": {
  "kernelspec": {
   "display_name": "Python 3",
   "language": "python",
   "name": "python3"
  },
  "language_info": {
   "codemirror_mode": {
    "name": "ipython",
    "version": 3
   },
   "file_extension": ".py",
   "mimetype": "text/x-python",
   "name": "python",
   "nbconvert_exporter": "python",
   "pygments_lexer": "ipython3",
   "version": "3.7.0"
  }
 },
 "nbformat": 4,
 "nbformat_minor": 2
}
