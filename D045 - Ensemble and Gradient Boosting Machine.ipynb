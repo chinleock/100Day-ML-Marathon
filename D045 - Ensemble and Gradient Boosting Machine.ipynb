{
 "cells": [
  {
   "cell_type": "markdown",
   "metadata": {},
   "source": [
    "## Summary of D45 Ensemble and Gradient Boosting Machine\n",
    "\n",
    "### Material:\n",
    "\n",
    "[Ensemble 李宏毅](https://www.youtube.com/watch?v=tH9FH1DH5n0)\n",
    "\n",
    "[Gradient Boosting Roadmap](https://explained.ai/gradient-boosting/index.html)\n",
    "\n",
    "### Reference:\n",
    "[梯度提升機原理](https://ifun01.com/84A3FW7.html)\n",
    "\n",
    "[XGBoost, Youtube](https://www.youtube.com/watch?v=ufHo8vbk6g4)\n",
    "\n",
    "[XGBoost, Kaggle](http://blog.kaggle.com/2017/01/23/a-kaggle-master-explains-gradient-boosting/)\n",
    "\n",
    "[XGBoost, math](https://homes.cs.washington.edu/~tqchen/pdf/BoostedTree.pdf)"
   ]
  },
  {
   "cell_type": "code",
   "execution_count": null,
   "metadata": {},
   "outputs": [],
   "source": []
  }
 ],
 "metadata": {
  "kernelspec": {
   "display_name": "Python 3",
   "language": "python",
   "name": "python3"
  },
  "language_info": {
   "codemirror_mode": {
    "name": "ipython",
    "version": 3
   },
   "file_extension": ".py",
   "mimetype": "text/x-python",
   "name": "python",
   "nbconvert_exporter": "python",
   "pygments_lexer": "ipython3",
   "version": "3.7.0"
  }
 },
 "nbformat": 4,
 "nbformat_minor": 2
}
