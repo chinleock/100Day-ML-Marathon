{
 "cells": [
  {
   "cell_type": "markdown",
   "metadata": {},
   "source": [
    "## 練習時間\n",
    "試著使用 sklearn datasets 的其他資料集 (boston, ...)，來訓練自己的線性迴歸模型，並加上適當的正則話來觀察訓練情形。"
   ]
  },
  {
   "cell_type": "code",
   "execution_count": 1,
   "metadata": {},
   "outputs": [],
   "source": [
    "import numpy as np\n",
    "import matplotlib.pyplot as plt\n",
    "from sklearn import datasets, linear_model\n",
    "from sklearn.model_selection import train_test_split\n",
    "from sklearn.metrics import mean_squared_error, r2_score"
   ]
  },
  {
   "cell_type": "code",
   "execution_count": 7,
   "metadata": {},
   "outputs": [
    {
     "name": "stdout",
     "output_type": "stream",
     "text": [
      "coef of Linear Regression w/o regularization: \n",
      "[-1.20069127e-01  4.42144341e-02  2.18029202e-02  2.82329238e+00\n",
      " -1.56833913e+01  3.80699948e+00  3.17841209e-03 -1.41341055e+00\n",
      "  3.37685891e-01 -1.32620685e-02 -9.18962090e-01  1.13150821e-02\n",
      " -5.97720336e-01]\n",
      "Linear Regression w/o regularization, R2: 0.6949210655923876\n"
     ]
    }
   ],
   "source": [
    "boston = datasets.load_boston()\n",
    "X_train, X_test, y_train, y_test = train_test_split(boston.data, boston.target, test_size=0.1, random_state = 5)\n",
    "lr = linear_model.LinearRegression()\n",
    "ridge = linear_model.Ridge()\n",
    "lr.fit(X_train, y_train)\n",
    "y_pred = lr.predict(X_test)\n",
    "print(f'coef of Linear Regression w/o regularization: \\n{lr.coef_}')\n",
    "print(f'Linear Regression w/o regularization, R2: {r2_score(y_test, y_pred)}')"
   ]
  },
  {
   "cell_type": "code",
   "execution_count": 10,
   "metadata": {},
   "outputs": [
    {
     "name": "stdout",
     "output_type": "stream",
     "text": [
      "R2: 0.6551273935512487 when alpha = 0.1\n",
      "R2: 0.6544141374447423 when alpha = 0.2\n",
      "R2: 0.6535464981826444 when alpha = 0.5\n",
      "R2: 0.6302696637408145 when alpha = 1\n",
      "R2: 0.5872734457660468 when alpha = 5\n",
      "R2: 0.6135344081626353 when alpha = 10\n"
     ]
    }
   ],
   "source": [
    "#### LASSO ####\n",
    "alpha_list = [0.1, 0.2, 0.5, 1, 5, 10]\n",
    "for alpha in alpha_list:\n",
    "    lasso = linear_model.Lasso(alpha)\n",
    "    lasso.fit(X_train, y_train)\n",
    "    y_pred = lasso.predict(X_test)\n",
    "    #print(f'coef of LASSO regression (L1 regularization): \\n{lasso.coef_}')\n",
    "    print(f'R2: {r2_score(y_test, y_pred)} when alpha = {alpha}')"
   ]
  },
  {
   "cell_type": "code",
   "execution_count": 11,
   "metadata": {},
   "outputs": [
    {
     "name": "stdout",
     "output_type": "stream",
     "text": [
      "R2: 0.6927759531834012 when alpha = 0.1\n",
      "R2: 0.6908215273705817 when alpha = 0.2\n",
      "R2: 0.6859102048826665 when alpha = 0.5\n",
      "R2: 0.6800017632885003 when alpha = 1\n",
      "R2: 0.6642062846414145 when alpha = 5\n",
      "R2: 0.6595674417508541 when alpha = 10\n"
     ]
    }
   ],
   "source": [
    "#### Ridge ####\n",
    "for alpha in alpha_list:\n",
    "    ridge = linear_model.Ridge(alpha)\n",
    "    ridge.fit(X_train, y_train)\n",
    "    y_pred = ridge.predict(X_test)\n",
    "    #print(f'coef of Ridge regression (L2 regularization): \\n{ridge.coef_}')\n",
    "    print(f'R2: {r2_score(y_test, y_pred)} when alpha = {alpha}')"
   ]
  },
  {
   "cell_type": "code",
   "execution_count": null,
   "metadata": {},
   "outputs": [],
   "source": []
  }
 ],
 "metadata": {
  "kernelspec": {
   "display_name": "Python 3",
   "language": "python",
   "name": "python3"
  },
  "language_info": {
   "codemirror_mode": {
    "name": "ipython",
    "version": 3
   },
   "file_extension": ".py",
   "mimetype": "text/x-python",
   "name": "python",
   "nbconvert_exporter": "python",
   "pygments_lexer": "ipython3",
   "version": "3.7.0"
  }
 },
 "nbformat": 4,
 "nbformat_minor": 2
}
